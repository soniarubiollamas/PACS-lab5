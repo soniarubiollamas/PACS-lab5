{
 "cells": [
  {
   "cell_type": "code",
   "execution_count": 6,
   "metadata": {},
   "outputs": [
    {
     "name": "stdout",
     "output_type": "stream",
     "text": [
      "Image Width: 321 pixels\n",
      "Image Height: 321 pixels\n"
     ]
    }
   ],
   "source": [
    "from PIL import Image\n",
    "\n",
    "# Replace 'path_to_your_image.jpg' with your image file path\n",
    "image_path = 'Justin-Bieber.jpg'\n",
    "\n",
    "try:\n",
    "    with Image.open(image_path) as img:\n",
    "        width, height = img.size\n",
    "        print(f\"Image Width: {width} pixels\")\n",
    "        print(f\"Image Height: {height} pixels\")\n",
    "except IOError:\n",
    "    print(\"Unable to open image file\")\n",
    "\n"
   ]
  }
 ],
 "metadata": {
  "kernelspec": {
   "display_name": "base",
   "language": "python",
   "name": "python3"
  },
  "language_info": {
   "codemirror_mode": {
    "name": "ipython",
    "version": 3
   },
   "file_extension": ".py",
   "mimetype": "text/x-python",
   "name": "python",
   "nbconvert_exporter": "python",
   "pygments_lexer": "ipython3",
   "version": "3.9.7"
  }
 },
 "nbformat": 4,
 "nbformat_minor": 2
}
